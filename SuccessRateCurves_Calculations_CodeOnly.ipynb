{
 "cells": [
  {
   "cell_type": "markdown",
   "metadata": {},
   "source": [
    "# Calculations for success rate curves (landslide susceptibility analysis)\n",
    "\n",
    "Steps:\n",
    "1. Classify data into 4 susceptibility classes based on propensity scores (results of the ANN & C5.0 models)<br>\n",
    "2. Calculations for each model: <br>\n",
    "    a. Cells in each susceptibility class  <br>\n",
    "    b. Landslide cells in each susceptibility class  <br>\n",
    "3. Plot success rate curves  (not done yet -> plots were created in Excel first)"
   ]
  },
  {
   "cell_type": "code",
   "execution_count": null,
   "metadata": {},
   "outputs": [],
   "source": [
    "import pandas as pd\n",
    "import numpy as np"
   ]
  },
  {
   "cell_type": "markdown",
   "metadata": {},
   "source": [
    "# Landslides"
   ]
  },
  {
   "cell_type": "code",
   "execution_count": null,
   "metadata": {},
   "outputs": [],
   "source": [
    "ls_inventory1 = pd.read_table(\"E:/xyz_20210108/ls_inventory1.xyz\", sep=\"\\t\")\n",
    "ls_inventory2 = pd.read_table(\"E:/xyz_20210108/ls_inventory2.xyz\", sep=\"\\t\")"
   ]
  },
  {
   "cell_type": "code",
   "execution_count": null,
   "metadata": {
    "scrolled": false
   },
   "outputs": [],
   "source": [
    "ls_inventory2.tail(5)"
   ]
  },
  {
   "cell_type": "code",
   "execution_count": null,
   "metadata": {},
   "outputs": [],
   "source": [
    "ls_inventory1.tail()"
   ]
  },
  {
   "cell_type": "markdown",
   "metadata": {},
   "source": [
    "# Datasets with all parameters"
   ]
  },
  {
   "cell_type": "code",
   "execution_count": null,
   "metadata": {},
   "outputs": [],
   "source": [
    "inventory1_C50_allParam = pd.read_table(\"E:/xyz_20210108/inventory1_C50_all_allParameters_TPInorm.xyz\", sep=\"\\t\")\n",
    "inventory1_C50_Imp = pd.read_table(\"E:/xyz_20210108/inventory1_C50_all_Imp_TPItrans.xyz\", sep=\"\\t\")\n",
    "inventory1_C50_InfoVal_noPrun = pd.read_table(\"E:/xyz_20210108/inventory1_C50_all_InfoVal_noPrun_TPItrans.xyz\", sep=\"\\t\")\n",
    "inventory1_C50_InfoVal = pd.read_table(\"E:/xyz_20210108/inventory1_C50_all_InfoVal_TPInorm.xyz\", sep=\"\\t\")\n",
    "inventory1_C50_noCorr = pd.read_table(\"E:/xyz_20210108/inventory1_C50_all_noCorr_TPItrans.xyz\", sep=\"\\t\")\n",
    "inventory1_C50_noPrun_Imp = pd.read_table(\"E:/xyz_20210108/inventory1_C50_all_noPrun_Imp_TPItrans.xyz\", sep=\"\\t\")\n",
    "inventory1_C50_noPrun_noCorr = pd.read_table(\"E:/xyz_20210108/inventory1_C50_all_noPrun_noCorr_TPItrans.xyz\", sep=\"\\t\")\n",
    "inventory1_C50_noPrun = pd.read_table(\"E:/xyz_20210108/inventory1_C50_all_noPrun_TPItrans.xyz\", sep=\"\\t\")\n",
    "inventory1_NN_allParameters = pd.read_table(\"E:/xyz_20210108/inventory1_NN_all_allParameters_TPInorm.xyz\", sep=\"\\t\")\n",
    "inventory1_NN_InfoVal = pd.read_table(\"E:/xyz_20210108/inventory1_NN_all_InfoVal_TPItrans.xyz\", sep=\"\\t\")\n",
    "inventory1_NN_noCorr = pd.read_table(\"E:/xyz_20210108/inventory1_NN_all_noCorr_TPItrans.xyz\", sep=\"\\t\")"
   ]
  },
  {
   "cell_type": "code",
   "execution_count": null,
   "metadata": {},
   "outputs": [],
   "source": [
    "inventory1_C50_allParam.head()"
   ]
  },
  {
   "cell_type": "code",
   "execution_count": null,
   "metadata": {
    "scrolled": true
   },
   "outputs": [],
   "source": [
    "inventory1_NN_allParameters.tail()"
   ]
  },
  {
   "cell_type": "code",
   "execution_count": null,
   "metadata": {},
   "outputs": [],
   "source": [
    "inventory2_C50_allParam = pd.read_table(\"E:/xyz_20210108/inventory2_C50_all_allParameters_TPInorm.xyz\", sep=\"\\t\")\n",
    "inventory2_C50_Imp = pd.read_table(\"E:/xyz_20210108/inventory2_C50_all_Imp_TPItrans.xyz\", sep=\"\\t\")\n",
    "inventory2_C50_InfoVal_noPrun = pd.read_table(\"E:/inventory2_20210108/inventory2_C50_all_InfoVal_noPrun_TPItrans.xyz\", sep=\"\\t\")\n",
    "inventory2_C50_InfoVal = pd.read_table(\"E:/xyz_20210108/inventory2_C50_all_InfoVal_TPItrans.xyz\", sep=\"\\t\")\n",
    "inventory2_C50_noCorr = pd.read_table(\"E:/xyz_20210108/inventory2_C50_all_noCorr_TPItrans.xyz\", sep=\"\\t\")\n",
    "inventory2_C50_noPrun_Imp = pd.read_table(\"E:/xyz_20210108/inventory2_C50_noPrun_all_Imp_TPItrans.xyz\", sep=\"\\t\")\n",
    "inventory2_C50_noPrun_noCorr = pd.read_table(\"E:/xyz_20210108/inventory2_C50_noCorr_noPrun_TPItrans.xyz\", sep=\"\\t\")\n",
    "inventory2_C50_noPrun = pd.read_table(\"E:/xyz_20210108/inventory2_NN_allParameters_noPrun_TPItrans.xyz\", sep=\"\\t\")\n",
    "inventory2_NN_allParam = pd.read_table(\"E:/xyz_20210108/inventory2_NN_all_allParameters_TPInorm.xyz\", sep=\"\\t\")\n",
    "inventory2_NN_InfoVal = pd.read_table(\"E:/xyz_20210108/inventory2_NN_all_InfoVal_TPItrans.xyz\", sep=\"\\t\")\n",
    "inventory2_NN_noCorr = pd.read_table(\"E:/xyz_20210108/inventory2_NN_all_noCorr_TPItrans.xyz\", sep=\"\\t\")"
   ]
  },
  {
   "cell_type": "code",
   "execution_count": null,
   "metadata": {
    "scrolled": false
   },
   "outputs": [],
   "source": [
    "inventory2_C50_allParam.head()"
   ]
  },
  {
   "cell_type": "code",
   "execution_count": null,
   "metadata": {
    "scrolled": true
   },
   "outputs": [],
   "source": [
    "inventory2_NN_allParam.tail()"
   ]
  },
  {
   "cell_type": "code",
   "execution_count": null,
   "metadata": {},
   "outputs": [],
   "source": [
    "# Susceptibility classes \n",
    "\n",
    "# Landslide inventory 1\n",
    "\n",
    "inventory1_all_datasetsC50 = [inventory1_C50_allParam, \n",
    "                      inventory1_C50_Imp, \n",
    "                      inventory1_C50_InfoVal_noPrun, \n",
    "                      inventory1_C50_InfoVal, \n",
    "                      inventory1_C50_noCorr, \n",
    "                      inventory1_C50_noPrun_Imp, \n",
    "                      inventory1_C50_noPrun_noCorr, \n",
    "                      inventory1_C50_noPrun]\n",
    "\n",
    "\n",
    "inventory1_all_datasetsANN = [inventory1_NN_allParameters, \n",
    "                      inventory1_NN_InfoVal, \n",
    "                      inventory1_NN_noCorr]\n",
    "\n",
    "\n",
    "for df in inventory1_all_datasetsC50:\n",
    "    classes = [\"1\", \"2\", \"3\", \"4\"]\n",
    "    intervals =[0, 0.25, 0.50, 0.75, 1.01]\n",
    "    \n",
    "    # C5.0 models\n",
    "    df[\"Class\"] = pd.cut(df[\"$CRP-ls_inventory1\"], \n",
    "                    bins=intervals, \n",
    "                    labels = classes, \n",
    "                    right=False, \n",
    "                    include_lowest=True)\n",
    "    \n",
    "for df in inventory1_all_datasetsANN:\n",
    "    classes = [\"1\", \"2\", \"3\", \"4\"]\n",
    "    intervals =[0, 0.25, 0.50, 0.75, 1.01]    \n",
    "    \n",
    "    # ANN models\n",
    "    df[\"Class\"] = pd.cut(df[\"$RP-ls_inventory1\"], \n",
    "                    bins=intervals, \n",
    "                    labels = classes, \n",
    "                    right=False, \n",
    "                    include_lowest=True)"
   ]
  },
  {
   "cell_type": "code",
   "execution_count": null,
   "metadata": {},
   "outputs": [],
   "source": [
    "#inventory1_C50_allParam.head()\n",
    "#inventory1_NN_allParameters.head()\n",
    "\n",
    "#testC50 = inventory1_C50_allParam[inventory1_C50_allParam[\"Class\"].isna() == True]\n",
    "#testC50\n",
    "\n",
    "#testANN = inventory1_NN_allParameters[inventory1_NN_allParameters[\"Class\"].isna() == True]\n",
    "#testANN"
   ]
  },
  {
   "cell_type": "code",
   "execution_count": null,
   "metadata": {},
   "outputs": [],
   "source": [
    "# Landslide inventory 2\n",
    "\n",
    "inventory2_all_datasetsC50 = [inventory2_C50_allParam, \n",
    "                      inventory2_C50_Imp, \n",
    "                      inventory2_C50_InfoVal_noPrun, \n",
    "                      inventory2_C50_InfoVal, \n",
    "                      inventory2_C50_noCorr, \n",
    "                      inventory2_C50_noPrun_Imp, \n",
    "                      inventory2_C50_noPrun_noCorr,\n",
    "                      inventory2_C50_noPrun]\n",
    "\n",
    "inventory2_all_datasetsANN = [inventory2_NN_allParam, \n",
    "                      inventory2_NN_InfoVal, \n",
    "                      inventory2_NN_noCorr]\n",
    "\n",
    "for df in inventory2_all_datasetsC50:\n",
    "    classes = [\"1\", \"2\", \"3\", \"4\"]\n",
    "    intervals =[0, 0.25, 0.50, 0.75, 1.01]\n",
    "    \n",
    "    # C5.0 models\n",
    "    df[\"Class\"] = pd.cut(df[\"$CRP-ls_inventory2\"], \n",
    "                    bins=intervals, \n",
    "                    labels = classes, \n",
    "                    right=False, \n",
    "                    include_lowest=True)\n",
    "   \n",
    "for df in inventory2_all_datasetsANN:\n",
    "    classes = [\"1\", \"2\", \"3\", \"4\"]\n",
    "    intervals =[0, 0.25, 0.50, 0.75, 1.01]\n",
    "\n",
    "    # ANN models\n",
    "    df[\"Class\"] = pd.cut(df[\"$RP-ls_inventory2\"], \n",
    "                    bins=intervals, \n",
    "                    labels = classes, \n",
    "                    right=False, \n",
    "                    include_lowest=True)"
   ]
  },
  {
   "cell_type": "code",
   "execution_count": null,
   "metadata": {
    "scrolled": true
   },
   "outputs": [],
   "source": [
    "#inventory2_C50_allParam.head()\n",
    "#inventory2_NN_allParam.head()\n",
    "\n",
    "#testC50_2 = inventory2_C50_allParam[inventory2_C50_allParam[\"Class\"].isna() == True]\n",
    "#testC50_2\n",
    "\n",
    "testANN_2 = inventory2_NN_allParam[inventory2_NN_allParam[\"Class\"].isna() == True]\n",
    "testANN_2"
   ]
  },
  {
   "cell_type": "code",
   "execution_count": null,
   "metadata": {},
   "outputs": [],
   "source": [
    "# Calculate number of cells in each class\n",
    "\n",
    "inventory1_all_datasets = [inventory1_C50_allParam, \n",
    "                      inventory1_C50_Imp, \n",
    "                      inventory1_C50_InfoVal_noPrun, \n",
    "                      inventory1_C50_InfoVal, \n",
    "                      inventory1_C50_noCorr, \n",
    "                      inventory1_C50_noPrun_Imp, \n",
    "                      inventory1_C50_noPrun_noCorr, \n",
    "                      inventory1_C50_noPrun, \n",
    "                      inventory1_NN_allParameters, \n",
    "                      inventory1_NN_InfoVal, \n",
    "                      inventory1_NN_noCorr]\n",
    "\n",
    "inventory2_all_datasets = [inventory2_C50_allParam, \n",
    "                      inventory2_C50_Imp, \n",
    "                      inventory2_C50_InfoVal_noPrun, \n",
    "                      inventory2_C50_InfoVal, \n",
    "                      inventory2_C50_noCorr, \n",
    "                      inventory2_C50_noPrun_Imp, \n",
    "                      inventory2_C50_noPrun_noCorr, \n",
    "                      inventory2_C50_noPrun, \n",
    "                      inventory2_NN_allParam, \n",
    "                      inventory2_NN_InfoVal, \n",
    "                      inventory2_NN_noCorr]\n",
    "\n",
    "\n",
    "for df in inventory1_all_datasets:\n",
    "\n",
    "    counts = df[\"Class\"].value_counts()\n",
    "    counts.sort_index(ascending=False, inplace=True)\n",
    "    counts.to_csv(\"D:/.../Results_xyz/inventory1_all_datasets_counts_new1.csv\", mode=\"a\", index=False)\n",
    "\n",
    "\n",
    "for df in inventory2_all_datasets:\n",
    "    counts1 = df[\"Class\"].value_counts()\n",
    "    counts1.sort_index(ascending=False, inplace=True)\n",
    "    counts1.to_csv(\"D:/.../Results_xyz/inventory2_all_datasets_counts_new1.csv\", mode=\"a\", index=False)"
   ]
  },
  {
   "cell_type": "code",
   "execution_count": null,
   "metadata": {},
   "outputs": [],
   "source": [
    "inventory2_NN_InfoVal[\"Class\"].value_counts()"
   ]
  },
  {
   "cell_type": "code",
   "execution_count": null,
   "metadata": {},
   "outputs": [],
   "source": [
    "inventory2_NN_allParam[\"Class\"].value_counts()"
   ]
  },
  {
   "cell_type": "code",
   "execution_count": null,
   "metadata": {},
   "outputs": [],
   "source": [
    "# Join landslide datasets with classified datasets to calculate number of landslide cells in each category\n",
    "\n",
    "# Landslides inventory (catalog) 1\n",
    "\n",
    "inventory1_all_datasets = [inventory1_C50_allParam, \n",
    "                      inventory1_C50_Imp, \n",
    "                      inventory1_C50_InfoVal_noPrun, \n",
    "                      inventory1_C50_InfoVal, \n",
    "                      inventory1_C50_noCorr, \n",
    "                      inventory1_C50_noPrun_Imp, \n",
    "                      inventory1_C50_noPrun_noCorr, \n",
    "                      inventory1_C50_noPrun, \n",
    "                      inventory1_NN_allParameters, \n",
    "                      inventory1_NN_InfoVal, \n",
    "                      inventory1_NN_noCorr]\n",
    "\n",
    "merged = []\n",
    "for df in inventory1_all_datasets:\n",
    "    merged2 = inventory1_LS.merge(df, on = [\"X\", \"Y\"], how = \"inner\")\n",
    "    merged2[\"ls_inventory1\"].replace(0, np.nan, inplace=True)\n",
    "    merged2.dropna(subset=[\"ls_inventory1\"], inplace=True)\n",
    "    merged.append(merged2)"
   ]
  },
  {
   "cell_type": "code",
   "execution_count": null,
   "metadata": {},
   "outputs": [],
   "source": [
    "merged_df_inventory1 = pd.DataFrame([merged])"
   ]
  },
  {
   "cell_type": "code",
   "execution_count": null,
   "metadata": {},
   "outputs": [],
   "source": [
    "merged_df_inventory1.head()"
   ]
  },
  {
   "cell_type": "code",
   "execution_count": null,
   "metadata": {},
   "outputs": [],
   "source": [
    "inventory1_C50_allParam_LS = merged_df_inventory1.iloc[0,0]\n",
    "inventory1_C50_Imp_LS = merged_df_inventory1.iloc[0,1]\n",
    "inventory1_C50_InfoVal_noPrun_LS = merged_df_inventory1.iloc[0,2]\n",
    "inventory1_C50_InfoVal_LS = merged_df_inventory1.iloc[0,3]\n",
    "inventory1_C50_noCorr_LS = merged_df_inventory1.iloc[0,4]\n",
    "inventory1_C50_noPrun_Imp_LS = merged_df_inventory1.iloc[0,5]\n",
    "inventory1_C50_noPrun_noCorr_LS = merged_df_inventory1.iloc[0,6]\n",
    "inventory1_C50_noPrun_LS = merged_df_inventory1.iloc[0,7]\n",
    "inventory1_NN_allParameters_LS = merged_df_inventory1.iloc[0,8]\n",
    "inventory1_NN_InfoVal_LS = merged_df_inventory1.iloc[0,9]\n",
    "inventory1_NN_noCorr_LS = merged_df_inventory1.iloc[0,10]\n",
    "\n",
    "inventory1_C50_allParam_LS.head()"
   ]
  },
  {
   "cell_type": "code",
   "execution_count": null,
   "metadata": {},
   "outputs": [],
   "source": [
    "# Landslides inventory 2\n",
    "\n",
    "inventory2_all_datasets = [inventory2_C50_allParam, \n",
    "                      inventory2_C50_Imp, \n",
    "                      inventory2_C50_InfoVal_noPrun, \n",
    "                      inventory2_C50_InfoVal, \n",
    "                      inventory2_C50_noCorr, \n",
    "                      inventory2_C50_noPrun_Imp, \n",
    "                      inventory2_C50_noPrun_noCorr, \n",
    "                      inventory2_C50_noPrun, \n",
    "                      inventory2_NN_allParam, \n",
    "                      inventory2_NN_InfoVal, \n",
    "                      inventory2_NN_noCorr]\n",
    "\n",
    "merged_2 = []\n",
    "for df in inventory2_all_datasets:\n",
    "    merged_2A = inventory2_LS.merge(df, on = [\"X\", \"Y\"], how = \"inner\")\n",
    "    merged_2A[\"ls_inventory2\"].replace(0, np.nan, inplace=True)\n",
    "    merged_2A.dropna(subset=[\"ls_inventory2\"], inplace=True)\n",
    "    merged_2.append(merged_2A)"
   ]
  },
  {
   "cell_type": "code",
   "execution_count": null,
   "metadata": {},
   "outputs": [],
   "source": [
    "merged_df_inventory2 = pd.DataFrame([merged_2])"
   ]
  },
  {
   "cell_type": "code",
   "execution_count": null,
   "metadata": {},
   "outputs": [],
   "source": [
    "merged_df_inventory2.head()"
   ]
  },
  {
   "cell_type": "code",
   "execution_count": null,
   "metadata": {
    "scrolled": true
   },
   "outputs": [],
   "source": [
    "inventory2_C50_allParam_LS = merged_df_inventory2.iloc[0,0]\n",
    "inventory2_C50_Imp_LS = merged_df_inventory2.iloc[0,1] \n",
    "inventory2_C50_InfoVal_noPrun_LS = merged_df_inventory2.iloc[0,2]\n",
    "inventory2_C50_InfoVal_LS = merged_df_inventory2.iloc[0,3] \n",
    "inventory2_C50_noCorr_LS = merged_df_inventory2.iloc[0,4]\n",
    "inventory2_C50_noPrun_Imp_LS = merged_df_inventory2.iloc[0,5]\n",
    "inventory2_C50_noPrun_noCorr_LS = merged_df_inventory2.iloc[0,6]\n",
    "inventory2_C50_noPrun_LS = merged_df_inventory2.iloc[0,7]\n",
    "inventory2_NN_allParam_LS = merged_df_inventory2.iloc[0,8]\n",
    "inventory2_NN_InfoVal_LS = merged_df_inventory2.iloc[0,9]\n",
    "inventory2_NN_noCorr_LS = merged_df_inventory2.iloc[0,10]\n",
    "\n",
    "inventory2_NN_allParam_LS.head()"
   ]
  },
  {
   "cell_type": "code",
   "execution_count": null,
   "metadata": {},
   "outputs": [],
   "source": [
    "# Calculate number of landslide cells in each class\n",
    "\n",
    "inventory1_all_datasets_merged = [inventory1_C50_allParam_LS, \n",
    "                            inventory1_C50_Imp_LS, \n",
    "                            inventory1_C50_InfoVal_noPrun_LS, \n",
    "                            inventory1_C50_InfoVal_LS, \n",
    "                            inventory1_C50_noCorr_LS, \n",
    "                            inventory1_C50_noPrun_Imp_LS, \n",
    "                            inventory1_C50_noPrun_noCorr_LS, \n",
    "                            inventory1_C50_noPrun_LS, \n",
    "                            inventory1_NN_allParameters_LS, \n",
    "                            inventory1_NN_InfoVal_LS, \n",
    "                            inventory1_NN_noCorr_LS]\n",
    "\n",
    "inventory2_all_datasets_merged = [inventory2_C50_allParam_LS, \n",
    "                            inventory2_C50_Imp_LS, \n",
    "                          inventory2_C50_InfoVal_noPrun_LS, \n",
    "                          inventory2_C50_InfoVal_LS, \n",
    "                          inventory2_C50_noCorr_LS, \n",
    "                          inventory2_C50_noPrun_Imp_LS, \n",
    "                          inventory2_C50_noPrun_noCorr_LS, \n",
    "                          inventory2_C50_noPrun_LS, \n",
    "                          inventory2_NN_allParam_LS, \n",
    "                          inventory2_NN_InfoVal_LS, \n",
    "                          inventory2_NN_noCorr_LS]\n",
    "\n",
    "\n",
    "for df in inventory1_all_datasets_merged:\n",
    "\n",
    "    counts = df[\"Class\"].value_counts()\n",
    "    counts.sort_index(ascending=False, inplace=True)\n",
    "    counts.to_csv(\"D:/.../inventory1_all_datasets_LScounts_new1.csv\", mode=\"a\", index=False)\n",
    "\n",
    "\n",
    "for df in inventory2_all_datasets_merged:\n",
    "    \n",
    "    counts1 = df[\"Class\"].value_counts()\n",
    "    counts1.sort_index(ascending=False, inplace=True)\n",
    "    counts1.to_csv(\"D:/.../inventory2_all_datasets_LScounts_new1.csv\", mode=\"a\", index=False)"
   ]
  },
  {
   "cell_type": "code",
   "execution_count": null,
   "metadata": {},
   "outputs": [],
   "source": [
    "inventory1_C50_noPrun_Imp_LS[\"Class\"].value_counts()"
   ]
  },
  {
   "cell_type": "code",
   "execution_count": null,
   "metadata": {},
   "outputs": [],
   "source": [
    "inventory2_C50_noPrun_Imp_LS[\"Class\"].value_counts()"
   ]
  }
 ],
 "metadata": {
  "kernelspec": {
   "display_name": "Python 3",
   "language": "python",
   "name": "python3"
  },
  "language_info": {
   "codemirror_mode": {
    "name": "ipython",
    "version": 3
   },
   "file_extension": ".py",
   "mimetype": "text/x-python",
   "name": "python",
   "nbconvert_exporter": "python",
   "pygments_lexer": "ipython3",
   "version": "3.8.3"
  }
 },
 "nbformat": 4,
 "nbformat_minor": 4
}
